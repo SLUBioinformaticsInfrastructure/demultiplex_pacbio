{
 "cells": [
  {
   "cell_type": "code",
   "execution_count": 1,
   "metadata": {},
   "outputs": [],
   "source": [
    "from Bio import SeqIO\n",
    "import glob, os"
   ]
  },
  {
   "cell_type": "markdown",
   "metadata": {},
   "source": [
    "For each fastq:\n",
    "- create dict of sequences\n",
    "- iterate over fastq\n",
    "- write sequences in proper files"
   ]
  },
  {
   "cell_type": "code",
   "execution_count": 2,
   "metadata": {},
   "outputs": [],
   "source": [
    "def qual2ascii(list_of_phred):\n",
    "    ascii = ''\n",
    "    for i in list_of_phred:\n",
    "        ascii += chr(i+33)\n",
    "    return ascii"
   ]
  },
  {
   "cell_type": "code",
   "execution_count": 3,
   "metadata": {},
   "outputs": [],
   "source": [
    "D1 = {}\n",
    "D1_files = glob.glob(\"tag_sample_sorted/Pool1*\")\n",
    "for f in D1_files:\n",
    "    fhandle = open(f, 'r')\n",
    "    for l in fhandle:\n",
    "        l = l.strip()\n",
    "        D1[l] = f.replace(\".txt\", \".fastq\")"
   ]
  },
  {
   "cell_type": "code",
   "execution_count": 4,
   "metadata": {},
   "outputs": [
    {
     "name": "stdout",
     "output_type": "stream",
     "text": [
      "270015 sequences assigned to a tag.\n",
      "138328 sequences not linked to any tag.\n"
     ]
    }
   ],
   "source": [
    "fastq = SeqIO.parse(\"ps_034_001.ccs.fastq\", 'fastq')\n",
    "tag = 0\n",
    "non_tag = 0\n",
    "for entry in fastq:\n",
    "    try:\n",
    "        outfile = D1[entry.id]\n",
    "        tag += 1\n",
    "        if os.path.isfile(outfile):\n",
    "            o = open(outfile, 'a')\n",
    "            # write sequence\n",
    "            o.write(\"@{seqid}\\n{seq}\\n+\\n{qual}\\n\".format(seqid = entry.id, \n",
    "                                                          seq = str(entry.seq),\n",
    "                                                          qual = qual2ascii(entry._per_letter_annotations['phred_quality'])))\n",
    "            o.close()\n",
    "        else:\n",
    "            o = open(outfile, 'w')\n",
    "            # write sequence\n",
    "            o.write(\"@{seqid}\\n{seq}\\n+\\n{qual}\\n\".format(seqid = entry.id, \n",
    "                                                          seq = str(entry.seq),\n",
    "                                                          qual = qual2ascii(entry._per_letter_annotations['phred_quality'])))\n",
    "            o.close()\n",
    "    except:\n",
    "        #print(\"{} not linked to any tag\")\n",
    "        non_tag += 1\n",
    "\n",
    "print(\"{} sequences assigned to a tag.\".format(tag))\n",
    "print(\"{} sequences not linked to any tag.\".format(non_tag))"
   ]
  },
  {
   "cell_type": "code",
   "execution_count": 5,
   "metadata": {},
   "outputs": [],
   "source": [
    "D2 = {}\n",
    "D2_files = glob.glob(\"tag_sample_sorted/Pool2*\")\n",
    "for f in D2_files:\n",
    "    fhandle = open(f, 'r')\n",
    "    for l in fhandle:\n",
    "        l = l.strip()\n",
    "        D2[l] = f.replace(\".txt\", \".fastq\")"
   ]
  },
  {
   "cell_type": "code",
   "execution_count": 6,
   "metadata": {},
   "outputs": [
    {
     "name": "stdout",
     "output_type": "stream",
     "text": [
      "454003 sequences assigned to a tag.\n",
      "250301 sequences not linked to any tag.\n"
     ]
    }
   ],
   "source": [
    "fastq = SeqIO.parse(\"ps_034_002.ccs.fastq\", 'fastq')\n",
    "tag = 0\n",
    "non_tag = 0\n",
    "for entry in fastq:\n",
    "    try:\n",
    "        outfile = D2[entry.id]\n",
    "        tag += 1\n",
    "        if os.path.isfile(outfile):\n",
    "            o = open(outfile, 'a')\n",
    "            # write sequence\n",
    "            o.write(\"@{seqid}\\n{seq}\\n+\\n{qual}\\n\".format(seqid = entry.id, \n",
    "                                                          seq = str(entry.seq),\n",
    "                                                          qual = qual2ascii(entry._per_letter_annotations['phred_quality'])))\n",
    "            o.close()\n",
    "        else:\n",
    "            o = open(outfile, 'w')\n",
    "            # write sequence\n",
    "            o.write(\"@{seqid}\\n{seq}\\n+\\n{qual}\\n\".format(seqid = entry.id, \n",
    "                                                          seq = str(entry.seq),\n",
    "                                                          qual = qual2ascii(entry._per_letter_annotations['phred_quality'])))\n",
    "            o.close()\n",
    "    except:\n",
    "        #print(\"{} not linked to any tag\")\n",
    "        non_tag += 1\n",
    "\n",
    "print(\"{} sequences assigned to a tag.\".format(tag))\n",
    "print(\"{} sequences not linked to any tag.\".format(non_tag))"
   ]
  }
 ],
 "metadata": {
  "kernelspec": {
   "display_name": "Python 3",
   "language": "python",
   "name": "python3"
  },
  "language_info": {
   "codemirror_mode": {
    "name": "ipython",
    "version": 3
   },
   "file_extension": ".py",
   "mimetype": "text/x-python",
   "name": "python",
   "nbconvert_exporter": "python",
   "pygments_lexer": "ipython3",
   "version": "3.7.4"
  }
 },
 "nbformat": 4,
 "nbformat_minor": 2
}
